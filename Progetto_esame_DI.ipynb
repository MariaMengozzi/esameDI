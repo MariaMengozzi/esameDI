{
  "nbformat": 4,
  "nbformat_minor": 0,
  "metadata": {
    "colab": {
      "name": "Progetto_esame_DI.ipynb",
      "provenance": [],
      "collapsed_sections": [],
      "toc_visible": true,
      "authorship_tag": "ABX9TyPd3fEnXN5PRpV/wiR70v9E",
      "include_colab_link": true
    },
    "kernelspec": {
      "name": "python3",
      "display_name": "Python 3"
    },
    "language_info": {
      "name": "python"
    }
  },
  "cells": [
    {
      "cell_type": "markdown",
      "metadata": {
        "id": "view-in-github",
        "colab_type": "text"
      },
      "source": [
        "<a href=\"https://colab.research.google.com/github/MariaMengozzi/esameDI/blob/main/Progetto_esame_DI.ipynb\" target=\"_parent\"><img src=\"https://colab.research.google.com/assets/colab-badge.svg\" alt=\"Open In Colab\"/></a>"
      ]
    },
    {
      "cell_type": "markdown",
      "metadata": {
        "id": "ypIbbW0wy1tH"
      },
      "source": [
        "\n",
        "# Determinare il prezzo di vendita delle auto"
      ]
    },
    {
      "cell_type": "markdown",
      "metadata": {
        "id": "jtUvmKGBy3Q2"
      },
      "source": [
        "**Programmazione di Applicazioni Data Intensive**\\\n",
        "Laurea in Ingegneria e Scienze Informatiche\\\n",
        "DISI - Università di Bologna, Cesena\n",
        "\n",
        "Maria Mengozzi"
      ]
    },
    {
      "cell_type": "markdown",
      "metadata": {
        "id": "OkAX-mWYLD-H"
      },
      "source": [
        "Per prima cosa carichiamo le librerie necessarie ad elaborare i dati:\n",
        "\n",
        "\n",
        "*   *os.path* per elaborare i percorsi dei file\n",
        "*   *NumPy* per creare e operare su array N dimesionali\n",
        "*   *pandas* per caricare e manipolare dati tabulari\n",
        "*   *matplotlib* per creare grafici, viene inoltre aggiunta il comando per visualizzarli all'interno del notebook.\n",
        "\n"
      ]
    },
    {
      "cell_type": "code",
      "metadata": {
        "id": "HnVF0UzRxt3P"
      },
      "source": [
        "import os.path\n",
        "import pandas as pd\n",
        "import numpy as np\n",
        "import matplotlib.pyplot as plt\n",
        "%matplotlib inline"
      ],
      "execution_count": 21,
      "outputs": []
    },
    {
      "cell_type": "markdown",
      "metadata": {
        "id": "kTMkUkxaLi0Y"
      },
      "source": [
        "# Descrizione del problema\n"
      ]
    },
    {
      "cell_type": "markdown",
      "metadata": {
        "id": "WPJ9zdnNOaSn"
      },
      "source": [
        "Carichiamo il dataset da [Kaggle](https://www.kaggle.com/nehalbirla/vehicle-dataset-from-cardekho?select=Car+details+v3.csv) contenente le informazioni sulle auto usate elencate su [www.cardekho.com](www.cardekho.com). \n",
        "\n",
        "L' obiettivo del progetto è quello di predire una variabile continua, ossia il prezzo di vendita di un' auto usata in base alle sue caratteristiche."
      ]
    },
    {
      "cell_type": "code",
      "metadata": {
        "id": "m_azjFFC9Ogd"
      },
      "source": [
        "file_zip_url = \"https://github.com/MariaMengozzi/esameDI/raw/main/UsedCarsDataset.zip\"\n",
        "file_zip_name = \"UsedCarsDataset.zip\"\n",
        "file_name = 'Car details v3.csv'\n",
        "\n",
        "if not os.path.exists(file_zip_name):\n",
        "    from urllib.request import urlretrieve\n",
        "    urlretrieve(file_zip_url, file_zip_name)\n",
        "    from zipfile import ZipFile\n",
        "    with ZipFile(file_zip_name) as f:\n",
        "        f.extractall()"
      ],
      "execution_count": 26,
      "outputs": []
    },
    {
      "cell_type": "code",
      "metadata": {
        "id": "aq0J0KBq_OK5"
      },
      "source": [
        "with open(file_name) as dataFile:\n",
        "    data_raw = pd.read_csv(dataFile, sep=\",\")"
      ],
      "execution_count": 28,
      "outputs": []
    }
  ]
}